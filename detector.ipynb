{
 "cells": [
  {
   "cell_type": "markdown",
   "metadata": {},
   "source": [
    "### Support Functions -> disponibilizadas previamente"
   ]
  },
  {
   "cell_type": "code",
   "execution_count": 45,
   "metadata": {},
   "outputs": [],
   "source": [
    "import re\n",
    "\n",
    "def le_assinatura():\n",
    "    '''A funcao le os valores dos tracos linguisticos do modelo e devolve uma assinatura a ser comparada com os textos fornecidos'''\n",
    "    print(\"Bem-vindo ao detector automático de COH-PIAH.\")\n",
    "    print(\"Informe a assinatura típica de um aluno infectado:\")\n",
    "\n",
    "    wal = float(input(\"Entre o tamanho médio de palavra:\"))\n",
    "    ttr = float(input(\"Entre a relação Type-Token:\"))\n",
    "    hlr = float(input(\"Entre a Razão Hapax Legomana:\"))\n",
    "    sal = float(input(\"Entre o tamanho médio de sentença:\"))\n",
    "    sac = float(input(\"Entre a complexidade média da sentença:\"))\n",
    "    pal = float(input(\"Entre o tamanho medio de frase:\"))\n",
    "\n",
    "    return [wal, ttr, hlr, sal, sac, pal]\n",
    "\n",
    "def le_textos():\n",
    "    '''A funcao le todos os textos a serem comparados e devolve uma lista contendo cada texto como um elemento'''\n",
    "    i = 1\n",
    "    textos = []\n",
    "    texto = input(\"Digite o texto \" + str(i) +\" (aperte enter para sair):\")\n",
    "    while texto:\n",
    "        textos.append(texto)\n",
    "        i += 1\n",
    "        texto = input(\"Digite o texto \" + str(i) +\" (aperte enter para sair):\")\n",
    "\n",
    "    return textos\n",
    "\n",
    "def separa_sentencas(texto):\n",
    "    '''A funcao recebe um texto e devolve uma lista das sentencas dentro do texto'''\n",
    "    sentencas = re.split(r'[.!?]+', texto)\n",
    "    if sentencas[-1] == '':\n",
    "        del sentencas[-1]\n",
    "    return sentencas\n",
    "\n",
    "def separa_frases(sentenca):\n",
    "    '''A funcao recebe uma sentenca e devolve uma lista das frases dentro da sentenca'''\n",
    "    return re.split(r'[,:;]+', sentenca)\n",
    "\n",
    "def separa_palavras(frase):\n",
    "    '''A funcao recebe uma frase e devolve uma lista das palavras dentro da frase'''\n",
    "    return frase.split()\n",
    "\n",
    "def n_palavras_unicas(lista_palavras):\n",
    "    '''Essa funcao recebe uma lista de palavras e devolve o numero de palavras que aparecem uma unica vez'''\n",
    "    freq = dict()\n",
    "    unicas = 0\n",
    "    for palavra in lista_palavras:\n",
    "        p = palavra.lower()\n",
    "        if p in freq:\n",
    "            if freq[p] == 1:\n",
    "                unicas -= 1\n",
    "            freq[p] += 1\n",
    "        else:\n",
    "            freq[p] = 1\n",
    "            unicas += 1\n",
    "\n",
    "    return unicas\n",
    "\n",
    "def n_palavras_diferentes(lista_palavras):\n",
    "    '''Essa funcao recebe uma lista de palavras e devolve o numero de palavras diferentes utilizadas'''\n",
    "    freq = dict()\n",
    "    for palavra in lista_palavras:\n",
    "        p = palavra.lower()\n",
    "        if p in freq:\n",
    "            freq[p] += 1\n",
    "        else:\n",
    "            freq[p] = 1\n",
    "\n",
    "    return len(freq)"
   ]
  },
  {
   "cell_type": "markdown",
   "metadata": {},
   "source": [
    "### Main Functions -> elaboradas por mim"
   ]
  },
  {
   "cell_type": "code",
   "execution_count": 46,
   "metadata": {},
   "outputs": [],
   "source": [
    "def calcula_assinatura(texto):\n",
    "    \n",
    "    # defining variables\n",
    "\n",
    "    sentenças_texto = separa_sentencas(texto)\n",
    "\n",
    "    frases_texto = []\n",
    "    frases_texto_ARR = list(map(separa_frases, sentenças_texto))\n",
    "    for arr in frases_texto_ARR:\n",
    "        for frase in arr:\n",
    "            frases_texto.append(frase)\n",
    "\n",
    "    palavras_texto = []\n",
    "    palavras_texto_ARR = list(map(separa_palavras, frases_texto))\n",
    "    for arr in palavras_texto_ARR:\n",
    "        for palavra in arr:\n",
    "            palavras_texto.append(palavra)\n",
    "    \n",
    "    # defining traços linguísticos\n",
    "\n",
    "    ## tam médio das palavras\n",
    "    wal = len(\"\".join(palavras_texto)) / len(palavras_texto)\n",
    "\n",
    "    ## relação type-token\n",
    "    ttr = n_palavras_diferentes(palavras_texto) / len(palavras_texto)\n",
    "    \n",
    "    ## razão hapax legomana\n",
    "    hlr = n_palavras_unicas(palavras_texto) / len(palavras_texto)\n",
    "    \n",
    "    ## tam médio das sentenças\n",
    "    sal = len(\"\".join(sentenças_texto)) / len(sentenças_texto)\n",
    "\n",
    "    ## complex sentenças\n",
    "    sac = len(frases_texto) / len(sentenças_texto)\n",
    "\n",
    "    ## tam médio das frases\n",
    "    pal = len(\"\".join(frases_texto)) / len(frases_texto)\n",
    "\n",
    "    return [wal, ttr, hlr, sal, sac, pal]"
   ]
  },
  {
   "cell_type": "code",
   "execution_count": null,
   "metadata": {},
   "outputs": [],
   "source": [
    "from functools import reduce\n",
    "\n",
    "def compara_assinatura(as_a, as_b):\n",
    "    '''IMPLEMENTAR. Essa funcao recebe duas assinaturas de texto e deve devolver o grau de similaridade nas assinaturas.'''\n",
    "    \n",
    "    lista_diferenças = list(map(lambda a, b: abs(a - b), as_a, as_b))\n",
    "    reduced_lista_diferenças = reduce(lambda x, y: x + y, lista_diferenças)\n",
    "    similarity  = reduced_lista_diferenças / 6\n",
    "\n",
    "    return similarity"
   ]
  },
  {
   "cell_type": "code",
   "execution_count": 48,
   "metadata": {},
   "outputs": [],
   "source": [
    "def avalia_textos(textos, ass_cp):\n",
    "    '''IMPLEMENTAR. Essa funcao recebe uma lista de textos e uma assinatura ass_cp e deve devolver o numero (1 a n) do texto com maior probabilidade de ter sido infectado por COH-PIAH.'''\n",
    "    pass"
   ]
  },
  {
   "cell_type": "code",
   "execution_count": 49,
   "metadata": {},
   "outputs": [
    {
     "name": "stdout",
     "output_type": "stream",
     "text": [
      "[0.13000000000000034, 0.39999999999999997, 0.6, 4.5, 0.6000000000000001, 7.75]\n",
      "13.98\n"
     ]
    }
   ],
   "source": [
    "calcula_assinatura(\" rato roeu a roupa do rei de roma, mas o rei nao estaa vestido. logo, o rato pegou seu bilau\")\n",
    "\n",
    "compara_assinatura(\n",
    "    [3.32, 0.45, 0.1, 50, 2.6, 30],\n",
    "    [3.45, 0.85, 0.7, 45.5, 2.0, 22.25]\n",
    ")\n",
    "\n"
   ]
  }
 ],
 "metadata": {
  "kernelspec": {
   "display_name": "base",
   "language": "python",
   "name": "python3"
  },
  "language_info": {
   "codemirror_mode": {
    "name": "ipython",
    "version": 3
   },
   "file_extension": ".py",
   "mimetype": "text/x-python",
   "name": "python",
   "nbconvert_exporter": "python",
   "pygments_lexer": "ipython3",
   "version": "3.12.7"
  }
 },
 "nbformat": 4,
 "nbformat_minor": 2
}
