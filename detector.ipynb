{
 "cells": [
  {
   "cell_type": "code",
   "execution_count": null,
   "metadata": {},
   "outputs": [],
   "source": [
    "import re\n",
    "\n",
    "def le_assinatura():\n",
    "    '''A funcao le os valores dos tracos linguisticos do modelo e devolve uma assinatura a ser comparada com os textos fornecidos'''\n",
    "    print(\"Bem-vindo ao detector automático de COH-PIAH.\")\n",
    "    print(\"Informe a assinatura típica de um aluno infectado:\")\n",
    "\n",
    "    wal = float(input(\"Entre o tamanho médio de palavra:\"))\n",
    "    ttr = float(input(\"Entre a relação Type-Token:\"))\n",
    "    hlr = float(input(\"Entre a Razão Hapax Legomana:\"))\n",
    "    sal = float(input(\"Entre o tamanho médio de sentença:\"))\n",
    "    sac = float(input(\"Entre a complexidade média da sentença:\"))\n",
    "    pal = float(input(\"Entre o tamanho medio de frase:\"))\n",
    "\n",
    "    return [wal, ttr, hlr, sal, sac, pal]\n",
    "\n",
    "def le_textos():\n",
    "    '''A funcao le todos os textos a serem comparados e devolve uma lista contendo cada texto como um elemento'''\n",
    "    i = 1\n",
    "    textos = []\n",
    "    texto = input(\"Digite o texto \" + str(i) +\" (aperte enter para sair):\")\n",
    "    while texto:\n",
    "        textos.append(texto)\n",
    "        i += 1\n",
    "        texto = input(\"Digite o texto \" + str(i) +\" (aperte enter para sair):\")\n",
    "\n",
    "    return textos\n",
    "\n",
    "def separa_sentencas(texto):\n",
    "    '''A funcao recebe um texto e devolve uma lista das sentencas dentro do texto'''\n",
    "    sentencas = re.split(r'[.!?]+', texto)\n",
    "    if sentencas[-1] == '':\n",
    "        del sentencas[-1]\n",
    "    return sentencas\n",
    "\n",
    "def separa_frases(sentenca):\n",
    "    '''A funcao recebe uma sentenca e devolve uma lista das frases dentro da sentenca'''\n",
    "    return re.split(r'[,:;]+', sentenca)\n",
    "\n",
    "def separa_palavras(frase):\n",
    "    '''A funcao recebe uma frase e devolve uma lista das palavras dentro da frase'''\n",
    "    return frase.split()\n",
    "\n",
    "def n_palavras_unicas(lista_palavras):\n",
    "    '''Essa funcao recebe uma lista de palavras e devolve o numero de palavras que aparecem uma unica vez'''\n",
    "    freq = dict()\n",
    "    unicas = 0\n",
    "    for palavra in lista_palavras:\n",
    "        p = palavra.lower()\n",
    "        if p in freq:\n",
    "            if freq[p] == 1:\n",
    "                unicas -= 1\n",
    "            freq[p] += 1\n",
    "        else:\n",
    "            freq[p] = 1\n",
    "            unicas += 1\n",
    "\n",
    "    return unicas\n",
    "\n",
    "def n_palavras_diferentes(lista_palavras):\n",
    "    '''Essa funcao recebe uma lista de palavras e devolve o numero de palavras diferentes utilizadas'''\n",
    "    freq = dict()\n",
    "    for palavra in lista_palavras:\n",
    "        p = palavra.lower()\n",
    "        if p in freq:\n",
    "            freq[p] += 1\n",
    "        else:\n",
    "            freq[p] = 1\n",
    "\n",
    "    return len(freq)"
   ]
  },
  {
   "cell_type": "code",
   "execution_count": null,
   "metadata": {},
   "outputs": [],
   "source": [
    "def compara_assinatura(as_a, as_b):\n",
    "    '''IMPLEMENTAR. Essa funcao recebe duas assinaturas de texto e deve devolver o grau de similaridade nas assinaturas.'''\n",
    "    pass"
   ]
  },
  {
   "cell_type": "code",
   "execution_count": null,
   "metadata": {},
   "outputs": [],
   "source": [
    "def calcula_assinatura(texto):\n",
    "    '''IMPLEMENTAR. Essa funcao recebe um texto e deve devolver a assinatura do texto.'''\n",
    "    pass"
   ]
  },
  {
   "cell_type": "code",
   "execution_count": null,
   "metadata": {},
   "outputs": [],
   "source": [
    "def avalia_textos(textos, ass_cp):\n",
    "    '''IMPLEMENTAR. Essa funcao recebe uma lista de textos e uma assinatura ass_cp e deve devolver o numero (1 a n) do texto com maior probabilidade de ter sido infectado por COH-PIAH.'''\n",
    "    pass"
   ]
  }
 ],
 "metadata": {
  "kernelspec": {
   "display_name": "base",
   "language": "python",
   "name": "python3"
  },
  "language_info": {
   "name": "python",
   "version": "3.12.7"
  }
 },
 "nbformat": 4,
 "nbformat_minor": 2
}
